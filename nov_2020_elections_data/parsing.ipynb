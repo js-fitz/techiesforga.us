{
 "cells": [
  {
   "cell_type": "markdown",
   "metadata": {},
   "source": [
    "#### imports"
   ]
  },
  {
   "cell_type": "code",
   "execution_count": 13,
   "metadata": {},
   "outputs": [],
   "source": [
    "import re\n",
    "import os\n",
    "import pandas as pd\n"
   ]
  },
  {
   "cell_type": "markdown",
   "metadata": {},
   "source": [
    "### read data\n",
    "**`detail.txt` file** downloaded directly from **https://results.enr.clarityelections.com/GA/105369**"
   ]
  },
  {
   "cell_type": "code",
   "execution_count": 14,
   "metadata": {},
   "outputs": [],
   "source": [
    "with open('raw/detail.txt') as pop:\n",
    "    pop = pop.read()\n",
    "    \n",
    "delim = lambda x: re.split('(?:\\s){3,}', x) # delimit cells by 3 or more spaces\n",
    "rows = [delim(r) for r in pop.split('\\n')] # delimit rows with line breaks"
   ]
  },
  {
   "cell_type": "markdown",
   "metadata": {},
   "source": [
    "### split data for different races"
   ]
  },
  {
   "cell_type": "code",
   "execution_count": 15,
   "metadata": {},
   "outputs": [
    {
     "name": "stdout",
     "output_type": "stream",
     "text": [
      "297 total races found.\n"
     ]
    }
   ],
   "source": [
    "# function to get the category of each race\n",
    "# ( for organizing the repository )\n",
    "def parse_cat(race):\n",
    "    if 'Service' in race:\n",
    "        return ' '.join(race.split()[:3])\n",
    "    else:\n",
    "        return ' '.join(race.split()[:2]).replace('President of', 'US President')\n",
    "    \n",
    "    \n",
    "# find the consecutive batch of rows associated with each race\n",
    "\n",
    "data = [] # to compile info on all races\n",
    "\n",
    "for i, row in enumerate(rows[1:-2]):\n",
    "    row_data = {}\n",
    "    if row==['']: # indicates the beginning of data on a row\n",
    "        \n",
    "        if i>10: # identify the last row of & save the previous race\n",
    "            last_row_data['data_ends'] = i-1\n",
    "            last_row_data['data'] = rows[ last_row_data['data_starts'] : i ] \n",
    "            data.append(last_row_data)         \n",
    "        \n",
    "        if i < (len(rows)-10): # identify the first row of & other details on this race \n",
    "            row_data['race'] = ''.join(rows[i+2])\n",
    "            row_data['race_cat'] = parse_cat(row_data['race'])\n",
    "            row_data['candidates'] = rows[i+3]\n",
    "            row_data['data_starts'] = i+4 \n",
    "            last_row_data = row_data.copy()\n",
    "print(len(data), 'total races found.')"
   ]
  },
  {
   "cell_type": "markdown",
   "metadata": {},
   "source": [
    "### parse & clean data for each race\n",
    "- Rename columns to include candidates\n",
    "- Categorize race type\n",
    "- "
   ]
  },
  {
   "cell_type": "code",
   "execution_count": 30,
   "metadata": {},
   "outputs": [],
   "source": [
    "def parse_race_data(race_idx, target_dir='data'):\n",
    "    race_data = pd.DataFrame(data[race_idx]['data'])\n",
    "    race_data.columns = race_data.loc[0]\n",
    "    race_data.drop(0, inplace=True)\n",
    "    race_data = race_data.set_index('County')\n",
    "\n",
    "    candidates = [c for c in data[race_idx]['candidates'] if len(c)>0]\n",
    "\n",
    "\n",
    "    # rename columns to include candidate name\n",
    "    stats = list(race_data.columns[:5].str.replace('Choice Total', 'TOTAL VOTES'))\n",
    "    stats\n",
    "    new_cols = []\n",
    "    for cand in candidates:\n",
    "        for stat in stats:\n",
    "            new_cols.append(cand+'_'+stat) # create list of specified features\n",
    "    cols_affected = (5*len(candidates)) # add on unchanged features (total)\n",
    "    new_cols += list(race_data.columns[cols_affected:])\n",
    "    race_data.columns = new_cols # apply the new columns\n",
    "    \n",
    "    # create directories & file details\n",
    "    race_cat = data[race_idx]['race_cat']\n",
    "    race_name = data[race_idx]['race'].split('/')[0]\n",
    "    \n",
    "    if target_dir not in os.listdir():\n",
    "        os.makedirs(f'{target_dir}/')\n",
    "    if race_cat not in os.listdir(target_dir):\n",
    "        os.makedirs(f'{target_dir}/{race_cat}/')\n",
    "\n",
    "    # save csv\n",
    "    race_data.to_csv(f'{target_dir}/{race_cat}/{race_name}.csv') # keep the index! it's the county."
   ]
  },
  {
   "cell_type": "markdown",
   "metadata": {},
   "source": [
    "### parse & save data for all races"
   ]
  },
  {
   "cell_type": "code",
   "execution_count": 17,
   "metadata": {},
   "outputs": [],
   "source": [
    "for race_idx in range(len(data)):\n",
    "    parse_race_data(race_idx)"
   ]
  },
  {
   "cell_type": "markdown",
   "metadata": {},
   "source": [
    "#### verify "
   ]
  },
  {
   "cell_type": "code",
   "execution_count": 31,
   "metadata": {},
   "outputs": [
    {
     "data": {
      "text/plain": [
       "Raphael Warnock (Dem)_TOTAL VOTES       1613785\n",
       "Doug Collins (Rep)_TOTAL VOTES           978668\n",
       "Kelly Loeffler (I) (Rep)_TOTAL VOTES    1270732\n",
       "dtype: int64"
      ]
     },
     "execution_count": 31,
     "metadata": {},
     "output_type": "execute_result"
    }
   ],
   "source": [
    "df = pd.read_csv('data/US Senate/US Senate (Loeffler) - Special.csv')\n",
    "df[['Raphael Warnock (Dem)_TOTAL VOTES',\n",
    "    'Doug Collins (Rep)_TOTAL VOTES',\n",
    "    'Kelly Loeffler (I) (Rep)_TOTAL VOTES']].sum()\n",
    "\n",
    "# VERIFIED AGAINST DATA FROM STATE ONLINE DASHBOARD - Nov. 20th\n",
    "# results.enr.clarityelections.com/GA/105369"
   ]
  }
 ],
 "metadata": {
  "kernelspec": {
   "display_name": "Python 3",
   "language": "python",
   "name": "python3"
  },
  "language_info": {
   "codemirror_mode": {
    "name": "ipython",
    "version": 3
   },
   "file_extension": ".py",
   "mimetype": "text/x-python",
   "name": "python",
   "nbconvert_exporter": "python",
   "pygments_lexer": "ipython3",
   "version": "3.8.5"
  }
 },
 "nbformat": 4,
 "nbformat_minor": 4
}
